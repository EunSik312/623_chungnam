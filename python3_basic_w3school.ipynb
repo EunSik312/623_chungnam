{
  "nbformat": 4,
  "nbformat_minor": 0,
  "metadata": {
    "colab": {
      "provenance": [],
      "authorship_tag": "ABX9TyP3TTa6cnbH+S5zaIKj6IRd",
      "include_colab_link": true
    },
    "kernelspec": {
      "name": "python3",
      "display_name": "Python 3"
    },
    "language_info": {
      "name": "python"
    }
  },
  "cells": [
    {
      "cell_type": "markdown",
      "metadata": {
        "id": "view-in-github",
        "colab_type": "text"
      },
      "source": [
        "<a href=\"https://colab.research.google.com/github/EunSik312/623_chungnam/blob/main/python3_basic_w3school.ipynb\" target=\"_parent\"><img src=\"https://colab.research.google.com/assets/colab-badge.svg\" alt=\"Open In Colab\"/></a>"
      ]
    },
    {
      "cell_type": "markdown",
      "source": [
        "파이썬 기초 - w3school https://www.w3schools.com/python/matplotlib_intro.asp"
      ],
      "metadata": {
        "id": "ZCY6O6ChDQR8"
      }
    },
    {
      "cell_type": "code",
      "execution_count": 1,
      "metadata": {
        "colab": {
          "base_uri": "https://localhost:8080/"
        },
        "id": "v7KpR8fSAN7o",
        "outputId": "d1098783-196a-439f-b456-bfdb804ab53d"
      },
      "outputs": [
        {
          "output_type": "stream",
          "name": "stdout",
          "text": [
            "hello, wolrd\n"
          ]
        }
      ],
      "source": [
        "print(\"hello, wolrd\")"
      ]
    },
    {
      "cell_type": "markdown",
      "source": [],
      "metadata": {
        "id": "9FA6VA3RDhd4"
      }
    }
  ]
}